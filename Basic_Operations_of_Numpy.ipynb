{
  "nbformat": 4,
  "nbformat_minor": 0,
  "metadata": {
    "colab": {
      "provenance": []
    },
    "kernelspec": {
      "name": "python3",
      "display_name": "Python 3"
    },
    "language_info": {
      "name": "python"
    }
  },
  "cells": [
    {
      "cell_type": "code",
      "source": [
        "import numpy as np"
      ],
      "metadata": {
        "id": "aLtb6YGP8CK0"
      },
      "execution_count": 1,
      "outputs": []
    },
    {
      "cell_type": "code",
      "source": [
        "a = np.array([1,2,3])\n",
        "b = np.array([[1,2,3],[4,5,6]])\n",
        "c = np.array([[1,2,3],[4,5,6],[7,8,9]])\n",
        "print(type(a))\n",
        "print(a.shape)\n",
        "print(type(b))\n",
        "print(b.shape)\n",
        "print(type(c))\n",
        "print(c.shape)"
      ],
      "metadata": {
        "colab": {
          "base_uri": "https://localhost:8080/"
        },
        "id": "4Xq0d6jL9J8I",
        "outputId": "d653f886-b866-49dc-8c07-59c84581c9c4"
      },
      "execution_count": null,
      "outputs": [
        {
          "output_type": "stream",
          "name": "stdout",
          "text": [
            "<class 'numpy.ndarray'>\n",
            "(3,)\n",
            "<class 'numpy.ndarray'>\n",
            "(2, 3)\n",
            "<class 'numpy.ndarray'>\n",
            "(3, 3)\n"
          ]
        }
      ]
    },
    {
      "cell_type": "code",
      "source": [
        "# Creates a 2X2 zeros array\n",
        "c=np.zeros((2,2))\n",
        "# Creates a 2X4 ones array\n",
        "d=np.ones((2,4))\n",
        "# Creates a 3X2 array filled with random values\n",
        "e = np.random.randint((3,2))\n",
        "# Creates a range of elements till 7\n",
        "f = np.arange(7)\n",
        "\n",
        "print(c)\n",
        "print(d)\n",
        "print(e)\n",
        "print(f)"
      ],
      "metadata": {
        "colab": {
          "base_uri": "https://localhost:8080/"
        },
        "id": "aAqXBJmo972e",
        "outputId": "052bb2d8-6a3b-4e59-b66d-5339b5e210cc"
      },
      "execution_count": null,
      "outputs": [
        {
          "output_type": "stream",
          "name": "stdout",
          "text": [
            "[[0. 0.]\n",
            " [0. 0.]]\n",
            "[[1. 1. 1. 1.]\n",
            " [1. 1. 1. 1.]]\n",
            "[0 1]\n",
            "[0 1 2 3 4 5 6]\n"
          ]
        }
      ]
    },
    {
      "cell_type": "code",
      "source": [
        "print(np.sum(a))\n",
        "print(np.mean(b))\n",
        "print(np.min(c))\n",
        "print(np.max(d))"
      ],
      "metadata": {
        "colab": {
          "base_uri": "https://localhost:8080/"
        },
        "id": "UwsOojjQ-Rkb",
        "outputId": "1b224321-5219-4d1d-ad46-031213c49dbc"
      },
      "execution_count": null,
      "outputs": [
        {
          "output_type": "stream",
          "name": "stdout",
          "text": [
            "6\n",
            "3.5\n",
            "0.0\n",
            "1.0\n"
          ]
        }
      ]
    },
    {
      "cell_type": "code",
      "source": [
        "np.random.seed(42)  # For reproducibility\n",
        "student_marks = np.random.randint(0, 101, size=50)  # Assuming 50 students\n",
        "\n",
        "\n",
        "passing_marks = student_marks >= 30\n",
        "num_students_passed = np.sum(passing_marks)\n",
        "print(\"Number of students passed:\", num_students_passed)\n",
        "\n",
        "failed_marks = student_marks[student_marks < 30]\n",
        "print(\"Failed marks:\",failed_marks)"
      ],
      "metadata": {
        "id": "_2F0jl4e_HjI",
        "colab": {
          "base_uri": "https://localhost:8080/"
        },
        "outputId": "8857de76-6098-49d9-f8ac-b194d43cd309"
      },
      "execution_count": 3,
      "outputs": [
        {
          "output_type": "stream",
          "name": "stdout",
          "text": [
            "Number of students passed: 36\n",
            "Failed marks: [14 20 23  2 21  1 29  1 20 21 14  2  6 20]\n"
          ]
        }
      ]
    },
    {
      "cell_type": "code",
      "source": [
        "random_array = np.random.randint(1, 51, size=(5, 5))  # Creating a 5x5 array, adjust size as needed\n",
        "\n",
        "print(\"Random 2D array:\")\n",
        "print(random_array)"
      ],
      "metadata": {
        "colab": {
          "base_uri": "https://localhost:8080/"
        },
        "id": "A-J4bnNO4QJ_",
        "outputId": "a97a2d57-033c-4846-dc62-cdde34bee725"
      },
      "execution_count": 4,
      "outputs": [
        {
          "output_type": "stream",
          "name": "stdout",
          "text": [
            "Random 2D array:\n",
            "[[39 18  4 25 14]\n",
            " [50  9 26  2 20]\n",
            " [28 47  7 44  8]\n",
            " [47 35 14 17 36]\n",
            " [50 40  4  2  6]]\n"
          ]
        }
      ]
    },
    {
      "cell_type": "code",
      "source": [
        "odd_numbers = np.arange(-29, 11, 2)\n",
        "print(\"Array of odd numbers between -30 and 10:\")\n",
        "print(odd_numbers)"
      ],
      "metadata": {
        "colab": {
          "base_uri": "https://localhost:8080/"
        },
        "id": "M9gHYsau4UK0",
        "outputId": "4e9201e5-4aea-4954-b4d2-513bfdfbdea2"
      },
      "execution_count": 5,
      "outputs": [
        {
          "output_type": "stream",
          "name": "stdout",
          "text": [
            "Array of odd numbers between -30 and 10:\n",
            "[-29 -27 -25 -23 -21 -19 -17 -15 -13 -11  -9  -7  -5  -3  -1   1   3   5\n",
            "   7   9]\n"
          ]
        }
      ]
    },
    {
      "cell_type": "code",
      "source": [],
      "metadata": {
        "id": "saxi-VNC4X93"
      },
      "execution_count": null,
      "outputs": []
    }
  ]
}